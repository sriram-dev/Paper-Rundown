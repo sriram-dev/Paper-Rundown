{
 "cells": [
  {
   "cell_type": "code",
   "execution_count": 1,
   "metadata": {},
   "outputs": [
    {
     "name": "stderr",
     "output_type": "stream",
     "text": [
      "Using TensorFlow backend.\n"
     ]
    }
   ],
   "source": [
    "%matplotlib inline\n",
    "\n",
    "from keras import applications\n",
    "from keras.preprocessing.image import ImageDataGenerator\n",
    "from keras import optimizers\n",
    "from keras.models import Sequential, Model \n",
    "from keras.layers import Dropout, Flatten, Dense, GlobalAveragePooling2D, Conv2D, Activation, MaxPooling2D, Input, Lambda\n",
    "from keras import backend as k \n",
    "from keras.callbacks import ModelCheckpoint, LearningRateScheduler, TensorBoard, EarlyStopping\n",
    "from PIL import Image"
   ]
  },
  {
   "cell_type": "markdown",
   "metadata": {},
   "source": [
    "Using Helper method triplet sampler taken from https://github.com/akarshzingade/image-similarity-deep-ranking . This will help create a textfile with path to anchor, positive and negative images from the given input directory classes."
   ]
  },
  {
   "cell_type": "code",
   "execution_count": 2,
   "metadata": {
    "collapsed": true
   },
   "outputs": [],
   "source": [
    "from tripletsampler import triplet_sampler\n",
    "img_width = 256\n",
    "img_height = 256\n",
    "batch_size = 8"
   ]
  },
  {
   "cell_type": "code",
   "execution_count": 3,
   "metadata": {
    "collapsed": true
   },
   "outputs": [],
   "source": [
    "triplet_sampler(\"data/train\", \".\", 5, 5)"
   ]
  },
  {
   "cell_type": "markdown",
   "metadata": {},
   "source": [
    "This creates a file \"triplets.txt\" in the same folder as notebook file. Now lets use pandas to read the file"
   ]
  },
  {
   "cell_type": "code",
   "execution_count": 4,
   "metadata": {
    "collapsed": true
   },
   "outputs": [],
   "source": [
    "import pandas\n",
    "import xlrd\n",
    "import os\n",
    "import numpy as np"
   ]
  },
  {
   "cell_type": "code",
   "execution_count": 5,
   "metadata": {},
   "outputs": [
    {
     "name": "stdout",
     "output_type": "stream",
     "text": [
      "(11425, 3)\n",
      "(11425, 3)\n"
     ]
    },
    {
     "data": {
      "text/html": [
       "<div>\n",
       "<style scoped>\n",
       "    .dataframe tbody tr th:only-of-type {\n",
       "        vertical-align: middle;\n",
       "    }\n",
       "\n",
       "    .dataframe tbody tr th {\n",
       "        vertical-align: top;\n",
       "    }\n",
       "\n",
       "    .dataframe thead th {\n",
       "        text-align: right;\n",
       "    }\n",
       "</style>\n",
       "<table border=\"1\" class=\"dataframe\">\n",
       "  <thead>\n",
       "    <tr style=\"text-align: right;\">\n",
       "      <th></th>\n",
       "      <th>0</th>\n",
       "      <th>1</th>\n",
       "      <th>2</th>\n",
       "    </tr>\n",
       "  </thead>\n",
       "  <tbody>\n",
       "    <tr>\n",
       "      <th>0</th>\n",
       "      <td>data/train\\rose\\118974357_0faa23cce9_n.jpg</td>\n",
       "      <td>data/train\\rose\\123128873_546b8b7355_n.jpg</td>\n",
       "      <td>data/train\\tulip\\11746452_5bc1749a36.jpg</td>\n",
       "    </tr>\n",
       "    <tr>\n",
       "      <th>1</th>\n",
       "      <td>data/train\\dandelion\\11545123_50a340b473_m.jpg</td>\n",
       "      <td>data/train\\dandelion\\163702807_e508544acd_n.jpg</td>\n",
       "      <td>data/train\\tulip\\466409031_4c10294db5_m.jpg</td>\n",
       "    </tr>\n",
       "    <tr>\n",
       "      <th>2</th>\n",
       "      <td>data/train\\sunflower\\265422922_bbbde781d2_m.jpg</td>\n",
       "      <td>data/train\\sunflower\\200557981_f800fa1af9.jpg</td>\n",
       "      <td>data/train\\dandelion\\61242541_a04395e6bc.jpg</td>\n",
       "    </tr>\n",
       "    <tr>\n",
       "      <th>3</th>\n",
       "      <td>data/train\\rose\\160954292_6c2b4fda65_n.jpg</td>\n",
       "      <td>data/train\\rose\\1793211631_68c31a74dc.jpg</td>\n",
       "      <td>data/train\\tulip\\251811158_75fa3034ff.jpg</td>\n",
       "    </tr>\n",
       "    <tr>\n",
       "      <th>4</th>\n",
       "      <td>data/train\\dandelion\\1193386857_3ae53574f2_m.jpg</td>\n",
       "      <td>data/train\\dandelion\\463736819_f779800165.jpg</td>\n",
       "      <td>data/train\\tulip\\2254152047_d3bf8903cd_n.jpg</td>\n",
       "    </tr>\n",
       "  </tbody>\n",
       "</table>\n",
       "</div>"
      ],
      "text/plain": [
       "                                                  0  \\\n",
       "0        data/train\\rose\\118974357_0faa23cce9_n.jpg   \n",
       "1    data/train\\dandelion\\11545123_50a340b473_m.jpg   \n",
       "2   data/train\\sunflower\\265422922_bbbde781d2_m.jpg   \n",
       "3        data/train\\rose\\160954292_6c2b4fda65_n.jpg   \n",
       "4  data/train\\dandelion\\1193386857_3ae53574f2_m.jpg   \n",
       "\n",
       "                                                 1  \\\n",
       "0       data/train\\rose\\123128873_546b8b7355_n.jpg   \n",
       "1  data/train\\dandelion\\163702807_e508544acd_n.jpg   \n",
       "2    data/train\\sunflower\\200557981_f800fa1af9.jpg   \n",
       "3        data/train\\rose\\1793211631_68c31a74dc.jpg   \n",
       "4    data/train\\dandelion\\463736819_f779800165.jpg   \n",
       "\n",
       "                                              2  \n",
       "0      data/train\\tulip\\11746452_5bc1749a36.jpg  \n",
       "1   data/train\\tulip\\466409031_4c10294db5_m.jpg  \n",
       "2  data/train\\dandelion\\61242541_a04395e6bc.jpg  \n",
       "3     data/train\\tulip\\251811158_75fa3034ff.jpg  \n",
       "4  data/train\\tulip\\2254152047_d3bf8903cd_n.jpg  "
      ]
     },
     "execution_count": 5,
     "metadata": {},
     "output_type": "execute_result"
    }
   ],
   "source": [
    "df = pandas.read_csv('triplets.txt',header=None)\n",
    "df = df.sample(frac=1)\n",
    "print(df.shape)\n",
    "df = df.reset_index(drop=True)\n",
    "print(df.shape)\n",
    "df.head()"
   ]
  },
  {
   "cell_type": "code",
   "execution_count": 6,
   "metadata": {},
   "outputs": [
    {
     "data": {
      "text/html": [
       "<div>\n",
       "<style scoped>\n",
       "    .dataframe tbody tr th:only-of-type {\n",
       "        vertical-align: middle;\n",
       "    }\n",
       "\n",
       "    .dataframe tbody tr th {\n",
       "        vertical-align: top;\n",
       "    }\n",
       "\n",
       "    .dataframe thead th {\n",
       "        text-align: right;\n",
       "    }\n",
       "</style>\n",
       "<table border=\"1\" class=\"dataframe\">\n",
       "  <thead>\n",
       "    <tr style=\"text-align: right;\">\n",
       "      <th></th>\n",
       "      <th>0</th>\n",
       "      <th>1</th>\n",
       "      <th>2</th>\n",
       "    </tr>\n",
       "  </thead>\n",
       "  <tbody>\n",
       "    <tr>\n",
       "      <th>0</th>\n",
       "      <td>data/train\\rose\\118974357_0faa23cce9_n.jpg</td>\n",
       "      <td>data/train\\rose\\123128873_546b8b7355_n.jpg</td>\n",
       "      <td>data/train\\tulip\\11746452_5bc1749a36.jpg</td>\n",
       "    </tr>\n",
       "    <tr>\n",
       "      <th>1</th>\n",
       "      <td>data/train\\dandelion\\11545123_50a340b473_m.jpg</td>\n",
       "      <td>data/train\\dandelion\\163702807_e508544acd_n.jpg</td>\n",
       "      <td>data/train\\tulip\\466409031_4c10294db5_m.jpg</td>\n",
       "    </tr>\n",
       "    <tr>\n",
       "      <th>2</th>\n",
       "      <td>data/train\\sunflower\\265422922_bbbde781d2_m.jpg</td>\n",
       "      <td>data/train\\sunflower\\200557981_f800fa1af9.jpg</td>\n",
       "      <td>data/train\\dandelion\\61242541_a04395e6bc.jpg</td>\n",
       "    </tr>\n",
       "    <tr>\n",
       "      <th>3</th>\n",
       "      <td>data/train\\rose\\160954292_6c2b4fda65_n.jpg</td>\n",
       "      <td>data/train\\rose\\1793211631_68c31a74dc.jpg</td>\n",
       "      <td>data/train\\tulip\\251811158_75fa3034ff.jpg</td>\n",
       "    </tr>\n",
       "    <tr>\n",
       "      <th>4</th>\n",
       "      <td>data/train\\dandelion\\1193386857_3ae53574f2_m.jpg</td>\n",
       "      <td>data/train\\dandelion\\463736819_f779800165.jpg</td>\n",
       "      <td>data/train\\tulip\\2254152047_d3bf8903cd_n.jpg</td>\n",
       "    </tr>\n",
       "  </tbody>\n",
       "</table>\n",
       "</div>"
      ],
      "text/plain": [
       "                                                  0  \\\n",
       "0        data/train\\rose\\118974357_0faa23cce9_n.jpg   \n",
       "1    data/train\\dandelion\\11545123_50a340b473_m.jpg   \n",
       "2   data/train\\sunflower\\265422922_bbbde781d2_m.jpg   \n",
       "3        data/train\\rose\\160954292_6c2b4fda65_n.jpg   \n",
       "4  data/train\\dandelion\\1193386857_3ae53574f2_m.jpg   \n",
       "\n",
       "                                                 1  \\\n",
       "0       data/train\\rose\\123128873_546b8b7355_n.jpg   \n",
       "1  data/train\\dandelion\\163702807_e508544acd_n.jpg   \n",
       "2    data/train\\sunflower\\200557981_f800fa1af9.jpg   \n",
       "3        data/train\\rose\\1793211631_68c31a74dc.jpg   \n",
       "4    data/train\\dandelion\\463736819_f779800165.jpg   \n",
       "\n",
       "                                              2  \n",
       "0      data/train\\tulip\\11746452_5bc1749a36.jpg  \n",
       "1   data/train\\tulip\\466409031_4c10294db5_m.jpg  \n",
       "2  data/train\\dandelion\\61242541_a04395e6bc.jpg  \n",
       "3     data/train\\tulip\\251811158_75fa3034ff.jpg  \n",
       "4  data/train\\tulip\\2254152047_d3bf8903cd_n.jpg  "
      ]
     },
     "execution_count": 6,
     "metadata": {},
     "output_type": "execute_result"
    }
   ],
   "source": [
    "dftrain = df.head(10000)\n",
    "dftest = df.tail(1000)\n",
    "dftrain.head()"
   ]
  },
  {
   "cell_type": "code",
   "execution_count": 7,
   "metadata": {},
   "outputs": [
    {
     "data": {
      "text/html": [
       "<div>\n",
       "<style scoped>\n",
       "    .dataframe tbody tr th:only-of-type {\n",
       "        vertical-align: middle;\n",
       "    }\n",
       "\n",
       "    .dataframe tbody tr th {\n",
       "        vertical-align: top;\n",
       "    }\n",
       "\n",
       "    .dataframe thead th {\n",
       "        text-align: right;\n",
       "    }\n",
       "</style>\n",
       "<table border=\"1\" class=\"dataframe\">\n",
       "  <thead>\n",
       "    <tr style=\"text-align: right;\">\n",
       "      <th></th>\n",
       "      <th>0</th>\n",
       "      <th>1</th>\n",
       "      <th>2</th>\n",
       "    </tr>\n",
       "  </thead>\n",
       "  <tbody>\n",
       "    <tr>\n",
       "      <th>0</th>\n",
       "      <td>data/train\\dandelion\\455728598_c5f3e7fc71_m.jpg</td>\n",
       "      <td>data/train\\dandelion\\145173479_7d04346c20.jpg</td>\n",
       "      <td>data/train\\daisy\\43474673_7bb4465a86.jpg</td>\n",
       "    </tr>\n",
       "    <tr>\n",
       "      <th>1</th>\n",
       "      <td>data/train\\rose\\2265579414_2e00a8f265_n.jpg</td>\n",
       "      <td>data/train\\rose\\515121050_dcb99890be.jpg</td>\n",
       "      <td>data/train\\dandelion\\138166590_47c6cb9dd0.jpg</td>\n",
       "    </tr>\n",
       "    <tr>\n",
       "      <th>2</th>\n",
       "      <td>data/train\\dandelion\\1426682852_e62169221f_m.jpg</td>\n",
       "      <td>data/train\\dandelion\\1080179756_5f05350a59.jpg</td>\n",
       "      <td>data/train\\tulip\\480228053_513791d474.jpg</td>\n",
       "    </tr>\n",
       "    <tr>\n",
       "      <th>3</th>\n",
       "      <td>data/train\\dandelion\\455728598_c5f3e7fc71_m.jpg</td>\n",
       "      <td>data/train\\dandelion\\459748276_69101b0cec_n.jpg</td>\n",
       "      <td>data/train\\rose\\1667199972_7ba7d999c1_m.jpg</td>\n",
       "    </tr>\n",
       "    <tr>\n",
       "      <th>4</th>\n",
       "      <td>data/train\\tulip\\444963906_e41492b692.jpg</td>\n",
       "      <td>data/train\\tulip\\164578909_51f245d3fa_n.jpg</td>\n",
       "      <td>data/train\\dandelion\\1128626197_3f52424215_n.jpg</td>\n",
       "    </tr>\n",
       "  </tbody>\n",
       "</table>\n",
       "</div>"
      ],
      "text/plain": [
       "                                                  0  \\\n",
       "0   data/train\\dandelion\\455728598_c5f3e7fc71_m.jpg   \n",
       "1       data/train\\rose\\2265579414_2e00a8f265_n.jpg   \n",
       "2  data/train\\dandelion\\1426682852_e62169221f_m.jpg   \n",
       "3   data/train\\dandelion\\455728598_c5f3e7fc71_m.jpg   \n",
       "4         data/train\\tulip\\444963906_e41492b692.jpg   \n",
       "\n",
       "                                                 1  \\\n",
       "0    data/train\\dandelion\\145173479_7d04346c20.jpg   \n",
       "1         data/train\\rose\\515121050_dcb99890be.jpg   \n",
       "2   data/train\\dandelion\\1080179756_5f05350a59.jpg   \n",
       "3  data/train\\dandelion\\459748276_69101b0cec_n.jpg   \n",
       "4      data/train\\tulip\\164578909_51f245d3fa_n.jpg   \n",
       "\n",
       "                                                  2  \n",
       "0          data/train\\daisy\\43474673_7bb4465a86.jpg  \n",
       "1     data/train\\dandelion\\138166590_47c6cb9dd0.jpg  \n",
       "2         data/train\\tulip\\480228053_513791d474.jpg  \n",
       "3       data/train\\rose\\1667199972_7ba7d999c1_m.jpg  \n",
       "4  data/train\\dandelion\\1128626197_3f52424215_n.jpg  "
      ]
     },
     "execution_count": 7,
     "metadata": {},
     "output_type": "execute_result"
    }
   ],
   "source": [
    "dftest = dftest.reset_index(drop=True)\n",
    "dftest.head()"
   ]
  },
  {
   "cell_type": "code",
   "execution_count": 16,
   "metadata": {},
   "outputs": [
    {
     "name": "stdout",
     "output_type": "stream",
     "text": [
      "data/train\\rose\\118974357_0faa23cce9_n.jpg\n",
      "a\n",
      "t\n"
     ]
    }
   ],
   "source": [
    "row_iterator = dftrain.iterrows()\n",
    "i, row = next(row_iterator)\n",
    "print(row[0])\n",
    "print(row[1][1])\n",
    "print(row[1][2])"
   ]
  },
  {
   "cell_type": "markdown",
   "metadata": {},
   "source": [
    "There we go! We have our dataset of over 11K triplets to work with now !! \n",
    "\n",
    "Lets load an image from the dataframe, just in case to verify!"
   ]
  },
  {
   "cell_type": "code",
   "execution_count": 8,
   "metadata": {},
   "outputs": [
    {
     "name": "stdout",
     "output_type": "stream",
     "text": [
      "data/train\\dandelion\\61242541_a04395e6bc.jpg\n",
      "data/train\\sunflower\\164668737_aeab0cb55e_n.jpg\n",
      "data/train\\daisy\\99306615_739eb94b9e_m.jpg\n"
     ]
    },
    {
     "data": {
      "image/png": "[encoded data removed]",
      "text/plain": [
       "<Figure size 144x144 with 3 Axes>"
      ]
     },
     "metadata": {},
     "output_type": "display_data"
    }
   ],
   "source": [
    "import matplotlib.pyplot as plt\n",
    "import matplotlib.image as mpimg\n",
    "print(dftrain[0][0])\n",
    "print(dftrain[0][1])\n",
    "print(dftrain[0][2])\n",
    "image1 = mpimg.imread(dftrain[0][0]) \n",
    "image2 = mpimg.imread(dftrain[0][1])\n",
    "image3 = mpimg.imread(dftrain[0][2])\n",
    "fig=plt.figure(figsize=(2, 2))\n",
    "fig.add_subplot(2, 2,1)\n",
    "plt.imshow(image1)\n",
    "fig.add_subplot(2,2,2)\n",
    "plt.imshow(image2)\n",
    "fig.add_subplot(2,2,3)\n",
    "plt.imshow(image3)\n",
    "plt.show()"
   ]
  },
  {
   "cell_type": "markdown",
   "metadata": {},
   "source": [
    "Lets load VGGNet model pre trained with imagenet. All we care about are the encodings that are produced from it so that we can train the model further based on loss function. \n",
    "TripletLoss helper is also imported from a file "
   ]
  },
  {
   "cell_type": "code",
   "execution_count": 9,
   "metadata": {},
   "outputs": [
    {
     "name": "stderr",
     "output_type": "stream",
     "text": [
      "C:\\Users\\sdesikan\\AppData\\Local\\Continuum\\Anaconda3\\lib\\site-packages\\ipykernel_launcher.py:8: UserWarning: Update your `Model` call to the Keras 2 API: `Model(inputs=Tensor(\"in..., outputs=Tensor(\"la...)`\n",
      "  \n"
     ]
    }
   ],
   "source": [
    "from triplet_loss import triplet_loss,img_to_encoding, identity_loss\n",
    "model = applications.VGG16(weights = \"imagenet\", include_top=False, input_shape = (256, 256, 3))\n",
    "x = model.output\n",
    "x = Flatten()(x)\n",
    "x = Dense(128, activation=\"relu\")(x)\n",
    "# L2 normalization\n",
    "X = Lambda(lambda  x: k.l2_normalize(x,axis=1))(x)\n",
    "base_model = Model(input = model.input, output = X)"
   ]
  },
  {
   "cell_type": "code",
   "execution_count": 10,
   "metadata": {},
   "outputs": [],
   "source": [
    "#img_to_encoding(df[0][0], base_model, 256, 256)"
   ]
  },
  {
   "cell_type": "code",
   "execution_count": 11,
   "metadata": {},
   "outputs": [
    {
     "name": "stdout",
     "output_type": "stream",
     "text": [
      "()\n",
      "__________________________________________________________________________________________________\n",
      "Layer (type)                    Output Shape         Param #     Connected to                     \n",
      "==================================================================================================\n",
      "input_2 (InputLayer)            (None, 256, 256, 3)  0                                            \n",
      "__________________________________________________________________________________________________\n",
      "input_3 (InputLayer)            (None, 256, 256, 3)  0                                            \n",
      "__________________________________________________________________________________________________\n",
      "input_4 (InputLayer)            (None, 256, 256, 3)  0                                            \n",
      "__________________________________________________________________________________________________\n",
      "model_1 (Model)                 (None, 128)          18909120    input_2[0][0]                    \n",
      "                                                                 input_3[0][0]                    \n",
      "                                                                 input_4[0][0]                    \n",
      "__________________________________________________________________________________________________\n",
      "lambda_2 (Lambda)               (None, 1)            0           model_1[1][0]                    \n",
      "                                                                 model_1[2][0]                    \n",
      "                                                                 model_1[3][0]                    \n",
      "==================================================================================================\n",
      "Total params: 18,909,120\n",
      "Trainable params: 18,909,120\n",
      "Non-trainable params: 0\n",
      "__________________________________________________________________________________________________\n"
     ]
    }
   ],
   "source": [
    "#base_model.compile(optimizer = 'adam', loss = triplet_loss, metrics = ['accuracy'])\n",
    "input_1 = Input((img_width,img_height,3))\n",
    "input_2 = Input((img_width,img_height,3))\n",
    "input_3 = Input((img_width,img_height,3))\n",
    "\n",
    "r1 = base_model(input_1)\n",
    "r2 = base_model(input_2)\n",
    "r3 = base_model(input_3)\n",
    "y_pred = [r1,r2,r3]\n",
    "y_true = (None, None, None)\n",
    "loss = Lambda(triplet_loss, output_shape=(1,))(y_pred)\n",
    "print(loss.shape)\n",
    "model = Model(inputs=[input_1, input_2, input_3], outputs=loss)\n",
    "model.summary()\n",
    "model.compile(optimizer = 'adam', loss=identity_loss)"
   ]
  },
  {
   "cell_type": "code",
   "execution_count": 20,
   "metadata": {},
   "outputs": [],
   "source": [
    "row_iterator = dftrain.iterrows()\n",
    "def Generate():\n",
    "    while True:        \n",
    "        list_a = []\n",
    "        list_b = []\n",
    "        list_c = []\n",
    "        for i in range(batch_size):\n",
    "            i, row = next(row_iterator);     \n",
    "            anchor_img = Image.open(row[0])\n",
    "            anchor_img = anchor_img.resize((img_width,img_height))\n",
    "            anchor_img_array = np.asarray(anchor_img)\n",
    "            positive_img = Image.open(row[1])\n",
    "            positive_img = positive_img.resize((img_width,img_height))\n",
    "            positive_img_array = np.asarray(positive_img)\n",
    "            negative_img = Image.open(row[1])\n",
    "            negative_img = negative_img.resize((img_width,img_height))\n",
    "            negative_img_array = np.asarray(negative_img)\n",
    "            #x_train = np.array([anchor_img_array, positive_img_array, negative_img_array])\n",
    "            #anchor  = np.array([anchor_img_array])\n",
    "            #positive  = np.array([positive_img_array])\n",
    "            #negative = np.array([negative_img_array])                \n",
    "            list_a.append(anchor_img_array)\n",
    "            list_b.append(positive_img_array)\n",
    "            list_c.append(negative_img_array)\n",
    "        A = np.array(list_a, dtype='float32')\n",
    "        B = np.array(list_b, dtype='float32')\n",
    "        C = np.array(list_c, dtype='float32')\n",
    "        label = np.ones(batch_size)\n",
    "        yield [A,B, C], label"
   ]
  },
  {
   "cell_type": "code",
   "execution_count": 17,
   "metadata": {
    "collapsed": true
   },
   "outputs": [],
   "source": [
    "testrow_iterator = dftest.iterrows()\n",
    "def GenerateTest():\n",
    "    while True:        \n",
    "        list_a = []\n",
    "        list_b = []\n",
    "        list_c = []\n",
    "        for i in range(batch_size):\n",
    "            i, row = next(testrow_iterator);            \n",
    "            anchor_img = Image.open(row[0])\n",
    "            anchor_img = anchor_img.resize((img_width,img_height))\n",
    "            anchor_img_array = np.asarray(anchor_img)\n",
    "            positive_img = Image.open(row[1])\n",
    "            positive_img = positive_img.resize((img_width,img_height))\n",
    "            positive_img_array = np.asarray(positive_img)\n",
    "            negative_img = Image.open(row[2])\n",
    "            negative_img = negative_img.resize((img_width,img_height))\n",
    "            negative_img_array = np.asarray(negative_img)\n",
    "            #x_train = np.array([anchor_img_array, positive_img_array, negative_img_array])\n",
    "            #anchor  = np.array([anchor_img_array])\n",
    "            #positive  = np.array([positive_img_array])\n",
    "            #negative = np.array([negative_img_array])                \n",
    "            list_a.append(anchor_img_array)\n",
    "            list_b.append(positive_img_array)\n",
    "            list_c.append(negative_img_array)\n",
    "        A = np.array(list_a, dtype='float32')\n",
    "        B = np.array(list_b, dtype='float32')\n",
    "        C = np.array(list_c, dtype='float32')\n",
    "        label = np.ones(batch_size)\n",
    "        yield [A,B, C], label"
   ]
  },
  {
   "cell_type": "code",
   "execution_count": 19,
   "metadata": {},
   "outputs": [
    {
     "name": "stdout",
     "output_type": "stream",
     "text": [
      "0    data/train\\rose\\118974357_0faa23cce9_n.jpg\n",
      "1    data/train\\rose\\123128873_546b8b7355_n.jpg\n",
      "2      data/train\\tulip\\11746452_5bc1749a36.jpg\n",
      "Name: 0, dtype: object\n",
      "0     data/train\\dandelion\\11545123_50a340b473_m.jpg\n",
      "1    data/train\\dandelion\\163702807_e508544acd_n.jpg\n",
      "2        data/train\\tulip\\466409031_4c10294db5_m.jpg\n",
      "Name: 1, dtype: object\n",
      "0    data/train\\sunflower\\265422922_bbbde781d2_m.jpg\n",
      "1      data/train\\sunflower\\200557981_f800fa1af9.jpg\n",
      "2       data/train\\dandelion\\61242541_a04395e6bc.jpg\n",
      "Name: 2, dtype: object\n",
      "0    data/train\\rose\\160954292_6c2b4fda65_n.jpg\n",
      "1     data/train\\rose\\1793211631_68c31a74dc.jpg\n",
      "2     data/train\\tulip\\251811158_75fa3034ff.jpg\n",
      "Name: 3, dtype: object\n",
      "0    data/train\\dandelion\\1193386857_3ae53574f2_m.jpg\n",
      "1       data/train\\dandelion\\463736819_f779800165.jpg\n",
      "2        data/train\\tulip\\2254152047_d3bf8903cd_n.jpg\n",
      "Name: 4, dtype: object\n",
      "0    data/train\\dandelion\\129019877_8eea2978ca_m.jpg\n",
      "1      data/train\\dandelion\\458011386_ec89115a19.jpg\n",
      "2           data/train\\daisy\\43474673_7bb4465a86.jpg\n",
      "Name: 5, dtype: object\n",
      "0          data/train\\tulip\\176458518_f81d4bff8e.jpg\n",
      "1        data/train\\tulip\\212720516_df4965ebda_n.jpg\n",
      "2    data/train\\dandelion\\136011860_44ca0b2835_n.jpg\n",
      "Name: 6, dtype: object\n",
      "0       data/train\\dandelion\\483097906_2c35054346.jpg\n",
      "1    data/train\\dandelion\\1128626197_3f52424215_n.jpg\n",
      "2           data/train\\rose\\2273917656_6d6c038283.jpg\n",
      "Name: 7, dtype: object\n",
      "1.6\n"
     ]
    }
   ],
   "source": [
    "train_generator = Generate()\n",
    "test_generator = GenerateTest()\n",
    "batch = next(train_generator)\n",
    "print(model.predict_on_batch(batch[0]))"
   ]
  },
  {
   "cell_type": "code",
   "execution_count": 57,
   "metadata": {},
   "outputs": [
    {
     "name": "stdout",
     "output_type": "stream",
     "text": [
      "Epoch 1/5\n",
      " - 1682s - loss: 1.2406 - val_loss: 0.9204\n",
      "Epoch 2/5\n",
      " - 1611s - loss: 0.8610 - val_loss: 1.1309\n",
      "Epoch 3/5\n",
      " - 1595s - loss: 0.8391 - val_loss: 1.7000\n",
      "Epoch 4/5\n",
      " - 1598s - loss: 1.6459 - val_loss: 1.6159\n",
      "Epoch 5/5\n",
      " - 1601s - loss: 1.6507 - val_loss: 1.5643\n"
     ]
    },
    {
     "data": {
      "text/plain": [
       "<keras.callbacks.History at 0xdd978825f8>"
      ]
     },
     "execution_count": 57,
     "metadata": {},
     "output_type": "execute_result"
    }
   ],
   "source": [
    "model.fit_generator(train_generator, \n",
    "                    validation_data=test_generator, \n",
    "                    epochs=5, \n",
    "                    verbose=2, \n",
    "                    workers=1,\n",
    "                    steps_per_epoch=20, \n",
    "                    validation_steps=30)"
   ]
  },
  {
   "cell_type": "code",
   "execution_count": 93,
   "metadata": {},
   "outputs": [
    {
     "name": "stdout",
     "output_type": "stream",
     "text": [
      "(256, 256, 3)\n"
     ]
    },
    {
     "ename": "ValueError",
     "evalue": "Layer model_1 was called with an input that isn't a symbolic tensor. Received type: <class 'numpy.ndarray'>. Full input: [array([[[ 39.,  26.,  17.],\n        [ 39.,  26.,  17.],\n        [ 38.,  25.,  16.],\n        ...,\n        [231., 188., 172.],\n        [213., 175., 164.],\n        [174., 140., 138.]],\n\n       [[ 37.,  24.,  15.],\n        [ 37.,  24.,  15.],\n        [ 38.,  25.,  16.],\n        ...,\n        [232., 189., 173.],\n        [215., 177., 168.],\n        [177., 143., 141.]],\n\n       [[ 39.,  26.,  17.],\n        [ 39.,  26.,  17.],\n        [ 39.,  26.,  17.],\n        ...,\n        [232., 189., 173.],\n        [213., 175., 166.],\n        [176., 142., 140.]],\n\n       ...,\n\n       [[ 82.,  55.,  44.],\n        [ 91.,  63.,  51.],\n        [ 92.,  63.,  47.],\n        ...,\n        [ 16.,  15.,  11.],\n        [ 31.,  30.,  25.],\n        [ 34.,  34.,  26.]],\n\n       [[ 80.,  57.,  43.],\n        [ 97.,  71.,  58.],\n        [ 96.,  69.,  52.],\n        ...,\n        [ 32.,  31.,  26.],\n        [ 36.,  35.,  30.],\n        [ 36.,  36.,  26.]],\n\n       [[ 93.,  70.,  56.],\n        [ 91.,  65.,  52.],\n        [ 95.,  68.,  51.],\n        ...,\n        [ 27.,  27.,  19.],\n        [ 38.,  38.,  28.],\n        [ 45.,  45.,  35.]]], dtype=float32)]. All inputs to the layer should be tensors.",
     "output_type": "error",
     "traceback": [
      "\u001b[1;31m---------------------------------------------------------------------------\u001b[0m",
      "\u001b[1;31mValueError\u001b[0m                                Traceback (most recent call last)",
      "\u001b[1;32mC:\\Users\\sdesikan\\AppData\\Local\\Continuum\\Anaconda3\\lib\\site-packages\\keras\\engine\\base_layer.py\u001b[0m in \u001b[0;36massert_input_compatibility\u001b[1;34m(self, inputs)\u001b[0m\n\u001b[0;32m    278\u001b[0m             \u001b[1;32mtry\u001b[0m\u001b[1;33m:\u001b[0m\u001b[1;33m\u001b[0m\u001b[0m\n\u001b[1;32m--> 279\u001b[1;33m                 \u001b[0mK\u001b[0m\u001b[1;33m.\u001b[0m\u001b[0mis_keras_tensor\u001b[0m\u001b[1;33m(\u001b[0m\u001b[0mx\u001b[0m\u001b[1;33m)\u001b[0m\u001b[1;33m\u001b[0m\u001b[0m\n\u001b[0m\u001b[0;32m    280\u001b[0m             \u001b[1;32mexcept\u001b[0m \u001b[0mValueError\u001b[0m\u001b[1;33m:\u001b[0m\u001b[1;33m\u001b[0m\u001b[0m\n",
      "\u001b[1;32mC:\\Users\\sdesikan\\AppData\\Local\\Continuum\\Anaconda3\\lib\\site-packages\\keras\\backend\\tensorflow_backend.py\u001b[0m in \u001b[0;36mis_keras_tensor\u001b[1;34m(x)\u001b[0m\n\u001b[0;32m    473\u001b[0m         raise ValueError('Unexpectedly found an instance of type `' +\n\u001b[1;32m--> 474\u001b[1;33m                          \u001b[0mstr\u001b[0m\u001b[1;33m(\u001b[0m\u001b[0mtype\u001b[0m\u001b[1;33m(\u001b[0m\u001b[0mx\u001b[0m\u001b[1;33m)\u001b[0m\u001b[1;33m)\u001b[0m \u001b[1;33m+\u001b[0m \u001b[1;34m'`. '\u001b[0m\u001b[1;33m\u001b[0m\u001b[0m\n\u001b[0m\u001b[0;32m    475\u001b[0m                          'Expected a symbolic tensor instance.')\n",
      "\u001b[1;31mValueError\u001b[0m: Unexpectedly found an instance of type `<class 'numpy.ndarray'>`. Expected a symbolic tensor instance.",
      "\nDuring handling of the above exception, another exception occurred:\n",
      "\u001b[1;31mValueError\u001b[0m                                Traceback (most recent call last)",
      "\u001b[1;32m<ipython-input-93-87287646962a>\u001b[0m in \u001b[0;36m<module>\u001b[1;34m()\u001b[0m\n\u001b[0;32m      2\u001b[0m \u001b[0mprint\u001b[0m\u001b[1;33m(\u001b[0m\u001b[0mbatch\u001b[0m\u001b[1;33m[\u001b[0m\u001b[1;36m0\u001b[0m\u001b[1;33m]\u001b[0m\u001b[1;33m[\u001b[0m\u001b[1;36m0\u001b[0m\u001b[1;33m]\u001b[0m\u001b[1;33m[\u001b[0m\u001b[1;36m0\u001b[0m\u001b[1;33m,\u001b[0m \u001b[1;33m:\u001b[0m\u001b[1;33m]\u001b[0m\u001b[1;33m.\u001b[0m\u001b[0mshape\u001b[0m\u001b[1;33m)\u001b[0m\u001b[1;33m\u001b[0m\u001b[0m\n\u001b[0;32m      3\u001b[0m \u001b[1;31m#print(model.predict([batch[0][0][0]), batch[0][0][0], batch[0][0][0]]))\u001b[0m\u001b[1;33m\u001b[0m\u001b[1;33m\u001b[0m\u001b[0m\n\u001b[1;32m----> 4\u001b[1;33m \u001b[0mbase_model\u001b[0m\u001b[1;33m(\u001b[0m\u001b[0mbatch\u001b[0m\u001b[1;33m[\u001b[0m\u001b[1;36m0\u001b[0m\u001b[1;33m]\u001b[0m\u001b[1;33m[\u001b[0m\u001b[1;36m0\u001b[0m\u001b[1;33m]\u001b[0m\u001b[1;33m[\u001b[0m\u001b[1;36m0\u001b[0m\u001b[1;33m,\u001b[0m \u001b[1;33m:\u001b[0m\u001b[1;33m]\u001b[0m\u001b[1;33m)\u001b[0m\u001b[1;33m\u001b[0m\u001b[0m\n\u001b[0m",
      "\u001b[1;32mC:\\Users\\sdesikan\\AppData\\Local\\Continuum\\Anaconda3\\lib\\site-packages\\keras\\engine\\base_layer.py\u001b[0m in \u001b[0;36m__call__\u001b[1;34m(self, inputs, **kwargs)\u001b[0m\n\u001b[0;32m    438\u001b[0m             \u001b[1;31m# Raise exceptions in case the input is not compatible\u001b[0m\u001b[1;33m\u001b[0m\u001b[1;33m\u001b[0m\u001b[0m\n\u001b[0;32m    439\u001b[0m             \u001b[1;31m# with the input_spec set at build time.\u001b[0m\u001b[1;33m\u001b[0m\u001b[1;33m\u001b[0m\u001b[0m\n\u001b[1;32m--> 440\u001b[1;33m             \u001b[0mself\u001b[0m\u001b[1;33m.\u001b[0m\u001b[0massert_input_compatibility\u001b[0m\u001b[1;33m(\u001b[0m\u001b[0minputs\u001b[0m\u001b[1;33m)\u001b[0m\u001b[1;33m\u001b[0m\u001b[0m\n\u001b[0m\u001b[0;32m    441\u001b[0m \u001b[1;33m\u001b[0m\u001b[0m\n\u001b[0;32m    442\u001b[0m             \u001b[1;31m# Handle mask propagation.\u001b[0m\u001b[1;33m\u001b[0m\u001b[1;33m\u001b[0m\u001b[0m\n",
      "\u001b[1;32mC:\\Users\\sdesikan\\AppData\\Local\\Continuum\\Anaconda3\\lib\\site-packages\\keras\\engine\\base_layer.py\u001b[0m in \u001b[0;36massert_input_compatibility\u001b[1;34m(self, inputs)\u001b[0m\n\u001b[0;32m    283\u001b[0m                                  \u001b[1;34m'Received type: '\u001b[0m \u001b[1;33m+\u001b[0m\u001b[1;33m\u001b[0m\u001b[0m\n\u001b[0;32m    284\u001b[0m                                  \u001b[0mstr\u001b[0m\u001b[1;33m(\u001b[0m\u001b[0mtype\u001b[0m\u001b[1;33m(\u001b[0m\u001b[0mx\u001b[0m\u001b[1;33m)\u001b[0m\u001b[1;33m)\u001b[0m \u001b[1;33m+\u001b[0m \u001b[1;34m'. Full input: '\u001b[0m \u001b[1;33m+\u001b[0m\u001b[1;33m\u001b[0m\u001b[0m\n\u001b[1;32m--> 285\u001b[1;33m                                  \u001b[0mstr\u001b[0m\u001b[1;33m(\u001b[0m\u001b[0minputs\u001b[0m\u001b[1;33m)\u001b[0m \u001b[1;33m+\u001b[0m \u001b[1;34m'. All inputs to the layer '\u001b[0m\u001b[1;33m\u001b[0m\u001b[0m\n\u001b[0m\u001b[0;32m    286\u001b[0m                                  'should be tensors.')\n\u001b[0;32m    287\u001b[0m \u001b[1;33m\u001b[0m\u001b[0m\n",
      "\u001b[1;31mValueError\u001b[0m: Layer model_1 was called with an input that isn't a symbolic tensor. Received type: <class 'numpy.ndarray'>. Full input: [array([[[ 39.,  26.,  17.],\n        [ 39.,  26.,  17.],\n        [ 38.,  25.,  16.],\n        ...,\n        [231., 188., 172.],\n        [213., 175., 164.],\n        [174., 140., 138.]],\n\n       [[ 37.,  24.,  15.],\n        [ 37.,  24.,  15.],\n        [ 38.,  25.,  16.],\n        ...,\n        [232., 189., 173.],\n        [215., 177., 168.],\n        [177., 143., 141.]],\n\n       [[ 39.,  26.,  17.],\n        [ 39.,  26.,  17.],\n        [ 39.,  26.,  17.],\n        ...,\n        [232., 189., 173.],\n        [213., 175., 166.],\n        [176., 142., 140.]],\n\n       ...,\n\n       [[ 82.,  55.,  44.],\n        [ 91.,  63.,  51.],\n        [ 92.,  63.,  47.],\n        ...,\n        [ 16.,  15.,  11.],\n        [ 31.,  30.,  25.],\n        [ 34.,  34.,  26.]],\n\n       [[ 80.,  57.,  43.],\n        [ 97.,  71.,  58.],\n        [ 96.,  69.,  52.],\n        ...,\n        [ 32.,  31.,  26.],\n        [ 36.,  35.,  30.],\n        [ 36.,  36.,  26.]],\n\n       [[ 93.,  70.,  56.],\n        [ 91.,  65.,  52.],\n        [ 95.,  68.,  51.],\n        ...,\n        [ 27.,  27.,  19.],\n        [ 38.,  38.,  28.],\n        [ 45.,  45.,  35.]]], dtype=float32)]. All inputs to the layer should be tensors."
     ]
    }
   ],
   "source": [
    "#batch = next(train_generator)\n",
    "print(batch[0][0][0, :].shape)\n",
    "#print(model.predict([batch[0][0][0]), batch[0][0][0], batch[0][0][0]]))\n",
    "base_model(batch[0][0][0, :])"
   ]
  },
  {
   "cell_type": "markdown",
   "metadata": {},
   "source": [
    "from PIL import Image\n",
    "import numpy as np\n",
    "inputlist= []\n",
    "outputlist = []\n",
    "for index, row in df.iterrows():\n",
    "    anchor_img = Image.open(row[0])\n",
    "    anchor_img = anchor_img.resize((img_width,img_height))\n",
    "    anchor_img_array = np.asarray(anchor_img)\n",
    "    positive_img = Image.open(row[1])\n",
    "    positive_img = positive_img.resize((img_width,img_height))\n",
    "    positive_img_array = np.asarray(positive_img)\n",
    "    negative_img = Image.open(row[2])\n",
    "    negative_img = negative_img.resize((img_width,img_height))\n",
    "    negative_img_array = np.asarray(negative_img)\n",
    "    #x_train = np.array([anchor_img_array, positive_img_array, negative_img_array])\n",
    "    anchor  = np.array([anchor_img_array])\n",
    "    positive  = np.array([positive_img_array])\n",
    "    negative = np.array([negative_img_array])\n",
    "    model.fit(x = [anchor, positive, negative], y = np.ones(len(anchor)), epochs=1, callbacks=None, validation_steps=None)\n",
    "    #print(x_train.shape)\n",
    "    if index is 100:\n",
    "        break\n",
    "    inputlist.append([[anchor, positive, negative]])\n",
    "    outputlist.append(np.ones(len(anchor)))\n",
    "#print(inputlist.shape)\n",
    "datagen = [tuple((y, np.ones(len(y[0])))) for y in inputlist]\n",
    "#model.fit_generator(data_gen, steps_per_epoch=20, epochs=1, callbacks=None, validation_steps=None)"
   ]
  },
  {
   "cell_type": "markdown",
   "metadata": {},
   "source": [
    "Now lets begin with training. Iterate over triplets from dataframe and train the model on each run"
   ]
  }
 ],
 "metadata": {
  "kernelspec": {
   "display_name": "Python 3",
   "language": "python",
   "name": "python3"
  },
  "language_info": {
   "codemirror_mode": {
    "name": "ipython",
    "version": 3
   },
   "file_extension": ".py",
   "mimetype": "text/x-python",
   "name": "python",
   "nbconvert_exporter": "python",
   "pygments_lexer": "ipython3",
   "version": "3.6.1"
  }
 },
 "nbformat": 4,
 "nbformat_minor": 2
}
